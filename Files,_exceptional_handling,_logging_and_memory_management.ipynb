{
  "nbformat": 4,
  "nbformat_minor": 0,
  "metadata": {
    "colab": {
      "provenance": []
    },
    "kernelspec": {
      "name": "python3",
      "display_name": "Python 3"
    },
    "language_info": {
      "name": "python"
    }
  },
  "cells": [
    {
      "cell_type": "markdown",
      "source": [
        "Files, exceptional handling, logging and\n",
        "memory management"
      ],
      "metadata": {
        "id": "yukti9BqIJmQ"
      }
    },
    {
      "cell_type": "markdown",
      "source": [
        "theory question\n"
      ],
      "metadata": {
        "id": "H2YgHbrEIbpG"
      }
    },
    {
      "cell_type": "markdown",
      "source": [
        "1. What is the difference between interpreted and compiled languages?\n",
        "    - Compiled Languages\n",
        "Process: The source code is converted into machine code (executable binary) before execution by a compiler.\n",
        "\n",
        "Execution: The compiled binary runs directly on the CPU.\n",
        "\n",
        "Performance: Generally faster because the code is pre-optimized.\n",
        "\n",
        "Debugging: Harder because errors are detected at compile time.\n",
        "\n",
        "Platform Dependency: Compiled binaries are often platform-specific (must be recompiled for different OS/CPU architectures).\n",
        "\n",
        "    Interpreted Languages\n",
        "Process: The source code is executed line-by-line at runtime by an interpreter.\n",
        "\n",
        "Execution: The interpreter reads and executes code on-the-fly.\n",
        "\n",
        "Performance: Generally slower because each line is translated during execution.\n",
        "\n",
        "Debugging: Easier since errors are reported as they occur.\n",
        "\n",
        "Platform Independence: Code runs anywhere the interpreter is available (more portable).\n",
        "\n",
        "2. What is exception handling in Python?\n",
        "\n",
        "    - Exception handling is a mechanism to manage runtime errors (exceptions) gracefully, preventing abrupt program termination and allowing for proper error recovery or user feedback.\n",
        "\n",
        "3. What is the purpose of the finally block in exception handling?\n",
        "\n",
        "    - The finally block in Python (and other languages) is used to define cleanup code that must run regardless of whether an exception occurs. It ensures critical operations (like closing files, releasing resources, or logging) are executed even if the program crashes or exits early\n",
        "\n",
        "4. What is logging in Python?\n",
        "\n",
        "    - Logging is the process of recording events, messages, and errors during a program's execution. It helps in debugging, monitoring, and auditing applications. Python provides a built-in logging module for flexible and powerful log management.\n",
        "\n",
        "5. What is the significance of the __del__ method in Python?\n",
        "\n",
        "    - The __del__ method is a destructor in Python, automatically invoked when an object is about to be destroyed (garbage-collected). It’s used to perform cleanup tasks, such as releasing resources (files, network connections) before the object is removed from memory.\n",
        "\n",
        "6. What is the difference between import and from ... import in Python?\n",
        "\n",
        "    - Both import and from ... import are used to include external modules or functions in your Python code, but they differ in how they load and reference the imported content.\n",
        "\n",
        "    import module_name\n",
        "    from module_name import name1, name2\n",
        "\n",
        "7. How can you handle multiple exceptions in Python?\n",
        "\n",
        "    - Python allows you to catch and handle multiple exceptions in several ways, making error handling more efficient and readable.\n",
        "\n",
        "8. What is the purpose of the with statement when handling files in Python?\n",
        "\n",
        "    - The with statement in Python is used for resource management, especially when working with files. Its primary purpose is to ensure that resources like file handles are properly acquired and released,\n",
        "\n",
        "9. What is the difference between multithreading and multiprocessing?\n",
        "\n",
        "    - Multithreading\n",
        " Definition:\n",
        "Multithreading uses multiple threads within a single process to execute tasks concurrently.\n",
        "\n",
        " Key Characteristics:\n",
        "Shares memory space between threads.\n",
        "\n",
        "Lightweight: threads are faster to create and switch between.\n",
        "\n",
        "Good for I/O-bound tasks (e.g., reading files, making web requests).\n",
        "\n",
        "Limited by the Global Interpreter Lock (GIL) in CPython, meaning only one thread can execute Python bytecode at a time.\n",
        "\n",
        "Multiprocessing\n",
        " Definition:\n",
        "Multiprocessing uses multiple processes, each with its own memory space, to execute tasks concurrently.\n",
        "\n",
        " Key Characteristics:\n",
        "Does not share memory between processes (uses inter-process communication).\n",
        "\n",
        "Better for CPU-bound tasks (e.g., computation-heavy operations).\n",
        "\n",
        "Not limited by the GIL — each process has its own Python interpreter.\n",
        "\n",
        "Higher overhead: creating and managing processes is more resource-intensive.\n",
        "\n",
        "10. Advantages of Using Logging in a Program\n",
        "\n",
        "    - More Control Over Output\n",
        "      Logging allows you to set levels of importance:\n",
        "\n",
        "      DEBUG: Detailed information, typically for diagnosing problems.\n",
        "\n",
        "      INFO: Confirmation that things are working as expected.\n",
        "\n",
        "      WARNING: An indication of potential problems.\n",
        "\n",
        "      ERROR: A serious problem that has occurred.\n",
        "\n",
        "11. What is memory management in Python?\n",
        "\n",
        "    - Memory management in Python refers to how Python handles the allocation and deallocation of memory for variables, objects, and data structures during program execution.\n",
        "\n",
        "12. What are the basic steps involved in exception handling in Python?\n",
        "\n",
        "    - In Python, exception handling allows you to manage errors gracefully, so your program doesn't crash unexpectedly\n",
        "\n",
        "13. Why is memory management important in Python?\n",
        "\n",
        "    - 1. Prevents Memory Leaks\n",
        "Poor memory handling can lead to memory leaks, where unused objects stay in memory longer than needed, eventually consuming all available memory.\n",
        "\n",
        "Python's garbage collector helps by cleaning up unreferenced objects.\n",
        "\n",
        "But developers still need to avoid creating circular references or holding onto unnecessary data.\n",
        "\n",
        "      2. Improves Performance\n",
        "Efficient memory use means:\n",
        "\n",
        "Faster program execution.\n",
        "\n",
        "Reduced memory footprint (important in data-heavy applications like machine learning, big data, etc.).\n",
        "\n",
        "14. What is the role of try and except in exception handling?\n",
        "\n",
        "    - try Block\n",
        "The try block is used to wrap the code that might raise an exception.\n",
        "\n",
        "Python executes the code inside the try block line by line.\n",
        "\n",
        "If an exception occurs, it jumps immediately to the corresponding except block.\n",
        "\n",
        "except Block\n",
        "The except block catches and handles the exception raised in the try block.\n",
        "\n",
        "You can catch specific exceptions or use a general one.\n",
        "\n",
        "Prevents the program from crashing and allows for recovery or logging.\n",
        "\n",
        "15. How does Python's garbage collection system work?\n",
        "\n",
        "    - Python’s garbage collection system automatically manages memory by reclaiming memory from objects that are no longer in use, so you don’t have to free memory manually.\n",
        "\n",
        "16. What is the purpose of the else block in exception handling?\n",
        "\n",
        "    - The else block in Python exception handling is used to define code that should run only if no exception occurs in the try block.\n",
        "\n",
        "17. What are the common logging levels in Python?\n",
        "\n",
        "    - In Python, the logging module provides several logging levels to categorize the severity of logs. These levels help control the verbosity of logs, allowing developers to capture information at various levels of detail\n",
        "\n",
        "18. What is the difference between os.fork() and multiprocessing in Python?\n",
        "\n",
        "    - os.fork() is a low-level function provided by Python's os module that creates a new child process by duplicating the current process.\n",
        "When os.fork() is called, the operating system creates a child process by duplicating the current process (the parent).\n",
        "\n",
        "The child process gets a copy of the parent process's memory, but the memory space is separate.\n",
        "\n",
        "The return value of os.fork() helps distinguish the parent from the child:\n",
        "\n",
        "In the parent process, os.fork() returns the PID of the child (a positive integer).\n",
        "\n",
        "In the child process, os.fork() returns 0.\n",
        "\n",
        "The multiprocessing module provides a higher-level API for creating and managing processes. It is cross-platform (works on Windows, Linux, and macOS) and provides built-in features for process synchronization and inter-process communication.\n",
        "\n",
        "19. What is the importance of closing a file in Python?\n",
        "\n",
        "    - When you open a file, the operating system allocates system resources (such as file handles) to manage that file. If you don't close the file, those resources are not freed, which can lead to resource leakage. In extreme cases, this can cause your system to run out of available file handles, especially if your program opens many files.\n",
        "\n",
        "20. What is the difference between file.read() and file.readline() in Python?\n",
        "\n",
        "    - file.read()\n",
        "Purpose: Reads the entire content of the file as a single string.\n",
        "\n",
        "How it Works: It reads the file starting from the beginning and continues to the end, returning all the file content as a single string.\n",
        "\n",
        "file.readline()\n",
        "Purpose: Reads one line at a time from the file.\n",
        "\n",
        "How it Works: It reads the file line by line and returns the next line, including the newline character (\\n) at the end of the line.\n",
        "\n",
        "Usage: Best used when you need to process the file one line at a time, without loading the entire file into memory.\n",
        "\n",
        "21. What is the logging module in Python used for?\n",
        "\n",
        "    - The logging module in Python is used to provide a flexible framework for logging messages from your application. Logging allows you to track events, errors, and other important information during program execution, which is crucial for debugging, monitoring, and maintaining code, especially in production environments.\n",
        "\n",
        "22. What is the os module in Python used for in file handling?\n",
        "\n",
        "    - The os module in Python provides a way to interact with the operating system and perform tasks related to file and directory management. It offers various functions that allow you to create, remove, rename, navigate, and manipulate files and directories.\n",
        "\n",
        "23. What are the challenges associated with memory management in Python?\n",
        "\n",
        "    - Memory management in Python is generally automated, thanks to the garbage collection system and memory management techniques like reference counting. However, there are still several challenges and considerations that can affect performance and efficiency\n",
        "\n",
        "24. How do you raise an exception manually in Python?\n",
        "\n",
        "    - In Python, you can raise an exception manually using the raise statement. This is useful when you want to indicate that an error has occurred in your program and need to stop execution or handle it accordingly\n",
        "\n",
        "25. Why is it important to use multithreading in certain applications?\n",
        "\n",
        "    - Using multithreading in certain applications is important for improving performance, efficiency, and responsiveness. It allows a program to perform multiple tasks concurrently within a single process, which can be especially beneficial in certain types of applications."
      ],
      "metadata": {
        "id": "9sYoBIqOIfhG"
      }
    },
    {
      "cell_type": "markdown",
      "source": [
        "practical questions"
      ],
      "metadata": {
        "id": "ORvgKxyhPVNj"
      }
    },
    {
      "cell_type": "code",
      "execution_count": 2,
      "metadata": {
        "id": "RZMpNz_7IIiJ"
      },
      "outputs": [],
      "source": [
        "with open('example.txt', 'w') as file:\n",
        "    file.write(\"Hello, world! This is a string written to the file.\")\n",
        "\n"
      ]
    },
    {
      "cell_type": "code",
      "source": [
        "with open('example.txt', 'r') as file:\n",
        "    for line in file:\n",
        "        print(line, end='')\n"
      ],
      "metadata": {
        "colab": {
          "base_uri": "https://localhost:8080/"
        },
        "id": "Yb0x0J6rPtCg",
        "outputId": "1c387758-e617-4b66-c4b9-0d16427db2f0"
      },
      "execution_count": 3,
      "outputs": [
        {
          "output_type": "stream",
          "name": "stdout",
          "text": [
            "Hello, world! This is a string written to the file."
          ]
        }
      ]
    },
    {
      "cell_type": "code",
      "source": [
        "try:\n",
        "    # Try to open the file in read mode\n",
        "    with open('example.txt', 'r') as file:\n",
        "        # Read and print each line\n",
        "        for line in file:\n",
        "            print(line, end='')\n",
        "except FileNotFoundError:\n",
        "    # Handle the case where the file does not exist\n",
        "    print(\"Error: The file 'example.txt' does not exist.\")\n"
      ],
      "metadata": {
        "colab": {
          "base_uri": "https://localhost:8080/"
        },
        "id": "dOupwhp9P9-K",
        "outputId": "fcbfaeff-f821-46ca-f9f4-10fc7a219368"
      },
      "execution_count": 4,
      "outputs": [
        {
          "output_type": "stream",
          "name": "stdout",
          "text": [
            "Hello, world! This is a string written to the file."
          ]
        }
      ]
    },
    {
      "cell_type": "code",
      "source": [
        "# Open the source file for reading\n",
        "with open('source_file.txt', 'r') as source_file:\n",
        "    # Open the destination file for writing\n",
        "    with open('destination_file.txt', 'w') as destination_file:\n",
        "        # Read and write line by line\n",
        "        for line in source_file:\n",
        "            destination_file.write(line)\n",
        "\n",
        "print(\"Content has been copied line by line from source_file.txt to destination_file.txt.\")\n"
      ],
      "metadata": {
        "colab": {
          "base_uri": "https://localhost:8080/",
          "height": 211
        },
        "id": "UVSCyaKKQFVh",
        "outputId": "3032933d-3b09-480f-c6bc-1cc5fc26d44a"
      },
      "execution_count": 6,
      "outputs": [
        {
          "output_type": "error",
          "ename": "FileNotFoundError",
          "evalue": "[Errno 2] No such file or directory: 'source_file.txt'",
          "traceback": [
            "\u001b[0;31m---------------------------------------------------------------------------\u001b[0m",
            "\u001b[0;31mFileNotFoundError\u001b[0m                         Traceback (most recent call last)",
            "\u001b[0;32m<ipython-input-6-036f1972fbbd>\u001b[0m in \u001b[0;36m<cell line: 0>\u001b[0;34m()\u001b[0m\n\u001b[1;32m      1\u001b[0m \u001b[0;31m# Open the source file for reading\u001b[0m\u001b[0;34m\u001b[0m\u001b[0;34m\u001b[0m\u001b[0m\n\u001b[0;32m----> 2\u001b[0;31m \u001b[0;32mwith\u001b[0m \u001b[0mopen\u001b[0m\u001b[0;34m(\u001b[0m\u001b[0;34m'source_file.txt'\u001b[0m\u001b[0;34m,\u001b[0m \u001b[0;34m'r'\u001b[0m\u001b[0;34m)\u001b[0m \u001b[0;32mas\u001b[0m \u001b[0msource_file\u001b[0m\u001b[0;34m:\u001b[0m\u001b[0;34m\u001b[0m\u001b[0;34m\u001b[0m\u001b[0m\n\u001b[0m\u001b[1;32m      3\u001b[0m     \u001b[0;31m# Open the destination file for writing\u001b[0m\u001b[0;34m\u001b[0m\u001b[0;34m\u001b[0m\u001b[0m\n\u001b[1;32m      4\u001b[0m     \u001b[0;32mwith\u001b[0m \u001b[0mopen\u001b[0m\u001b[0;34m(\u001b[0m\u001b[0;34m'destination_file.txt'\u001b[0m\u001b[0;34m,\u001b[0m \u001b[0;34m'w'\u001b[0m\u001b[0;34m)\u001b[0m \u001b[0;32mas\u001b[0m \u001b[0mdestination_file\u001b[0m\u001b[0;34m:\u001b[0m\u001b[0;34m\u001b[0m\u001b[0;34m\u001b[0m\u001b[0m\n\u001b[1;32m      5\u001b[0m         \u001b[0;31m# Read and write line by line\u001b[0m\u001b[0;34m\u001b[0m\u001b[0;34m\u001b[0m\u001b[0m\n",
            "\u001b[0;31mFileNotFoundError\u001b[0m: [Errno 2] No such file or directory: 'source_file.txt'"
          ]
        }
      ]
    },
    {
      "cell_type": "code",
      "source": [
        "try:\n",
        "    # Attempt to divide two numbers\n",
        "    result = 10 / 0  # This will raise a ZeroDivisionError\n",
        "except ZeroDivisionError as e:\n",
        "    # Handle the exception by printing a custom error message\n",
        "    print(\"Error: Division by zero is not allowed.\")\n",
        "    print(f\"Details: {e}\")  # Optional: Print the exception details\n",
        "else:\n",
        "    # This block will run if no exceptions were raised\n",
        "    print(f\"The result is {result}\")\n",
        "finally:\n",
        "    # This block will run no matter what (optional)\n",
        "    print(\"Execution completed.\")\n"
      ],
      "metadata": {
        "colab": {
          "base_uri": "https://localhost:8080/"
        },
        "id": "Iu6cp50pQQGH",
        "outputId": "de7316b0-82ea-4bb9-a56d-4bf6670e2d1f"
      },
      "execution_count": 7,
      "outputs": [
        {
          "output_type": "stream",
          "name": "stdout",
          "text": [
            "Error: Division by zero is not allowed.\n",
            "Details: division by zero\n",
            "Execution completed.\n"
          ]
        }
      ]
    },
    {
      "cell_type": "code",
      "source": [
        "import logging\n",
        "\n",
        "# Configure logging to write to a file\n",
        "logging.basicConfig(filename='error_log.txt', level=logging.ERROR,\n",
        "                    format='%(asctime)s - %(levelname)s - %(message)s')\n",
        "\n",
        "try:\n",
        "    # Attempt to perform a division by zero\n",
        "    result = 10 / 0  # This will raise a ZeroDivisionError\n",
        "except ZeroDivisionError as e:\n",
        "    # Log the error message to the log file\n",
        "    logging.error(f\"Error: Division by zero is not allowed. Details: {e}\")\n",
        "\n",
        "print(\"Error has been logged to 'error_log.txt'.\")\n"
      ],
      "metadata": {
        "colab": {
          "base_uri": "https://localhost:8080/"
        },
        "id": "avmWoCx1QeXk",
        "outputId": "02808a6e-20fd-47b2-b485-4b4a6bbe4e7c"
      },
      "execution_count": 8,
      "outputs": [
        {
          "output_type": "stream",
          "name": "stderr",
          "text": [
            "ERROR:root:Error: Division by zero is not allowed. Details: division by zero\n"
          ]
        },
        {
          "output_type": "stream",
          "name": "stdout",
          "text": [
            "Error has been logged to 'error_log.txt'.\n"
          ]
        }
      ]
    },
    {
      "cell_type": "code",
      "source": [
        "import logging\n",
        "\n",
        "# Configure logging to log messages to a file with different levels\n",
        "logging.basicConfig(filename='app.log', level=logging.DEBUG,\n",
        "                    format='%(asctime)s - %(levelname)s - %(message)s')\n",
        "\n",
        "# Logging at different levels\n",
        "logging.debug(\"This is a debug message.\")\n",
        "logging.info(\"This is an informational message.\")\n",
        "logging.warning(\"This is a warning message.\")\n",
        "logging.error(\"This is an error message.\")\n",
        "logging.critical(\"This is a critical message.\")\n",
        "\n",
        "print(\"Logging has been performed. Check 'app.log' for details.\")\n"
      ],
      "metadata": {
        "colab": {
          "base_uri": "https://localhost:8080/"
        },
        "id": "5MADk5TJQtCB",
        "outputId": "809e0bf4-8880-4066-fcd9-5f383c1e2735"
      },
      "execution_count": 9,
      "outputs": [
        {
          "output_type": "stream",
          "name": "stderr",
          "text": [
            "WARNING:root:This is a warning message.\n",
            "ERROR:root:This is an error message.\n",
            "CRITICAL:root:This is a critical message.\n"
          ]
        },
        {
          "output_type": "stream",
          "name": "stdout",
          "text": [
            "Logging has been performed. Check 'app.log' for details.\n"
          ]
        }
      ]
    },
    {
      "cell_type": "code",
      "source": [
        "try:\n",
        "    # Attempt to open a file that may not exist or may cause other issues\n",
        "    with open('non_existent_file.txt', 'r') as file:\n",
        "        # If the file is successfully opened, read its contents\n",
        "        content = file.read()\n",
        "        print(content)\n",
        "except FileNotFoundError:\n",
        "    # Handle the case when the file is not found\n",
        "    print(\"Error: The file does not exist.\")\n",
        "except PermissionError:\n",
        "    # Handle the case when you do not have permission to open the file\n",
        "    print(\"Error: You do not have permission to open this file.\")\n",
        "except Exception as e:\n",
        "    # Catch any other exceptions and print the error message\n",
        "    print(f\"An unexpected error occurred: {e}\")\n"
      ],
      "metadata": {
        "colab": {
          "base_uri": "https://localhost:8080/"
        },
        "id": "5WC7BlUYQ1kO",
        "outputId": "2e633a26-6c4f-42e5-9dd3-0f2431cc1926"
      },
      "execution_count": 10,
      "outputs": [
        {
          "output_type": "stream",
          "name": "stdout",
          "text": [
            "Error: The file does not exist.\n"
          ]
        }
      ]
    },
    {
      "cell_type": "code",
      "source": [
        "# Initialize an empty list to store the lines\n",
        "lines_list = []\n",
        "\n",
        "# Open the file in read mode\n",
        "with open('example.txt', 'r') as file:\n",
        "    # Read the file line by line\n",
        "    for line in file:\n",
        "        # Remove newline characters and store the line in the list\n",
        "        lines_list.append(line.strip())\n",
        "\n",
        "# Print the list containing all the lines from the file\n",
        "print(lines_list)\n"
      ],
      "metadata": {
        "colab": {
          "base_uri": "https://localhost:8080/"
        },
        "id": "23CeJdWBQ_N_",
        "outputId": "1aacdc2f-44e5-406e-cf24-b5c81e05cacb"
      },
      "execution_count": 11,
      "outputs": [
        {
          "output_type": "stream",
          "name": "stdout",
          "text": [
            "['Hello, world! This is a string written to the file.']\n"
          ]
        }
      ]
    },
    {
      "cell_type": "code",
      "source": [
        "# Data to append\n",
        "data_to_append = \"\\nThis is a new line of text.\"\n",
        "\n",
        "# Open the file in append mode ('a')\n",
        "with open('example.txt', 'a') as file:\n",
        "    # Write the data to the file\n",
        "    file.write(data_to_append)\n",
        "\n",
        "print(\"Data has been appended to 'example.txt'.\")\n"
      ],
      "metadata": {
        "colab": {
          "base_uri": "https://localhost:8080/"
        },
        "id": "EzY1L1FXRJWs",
        "outputId": "c0148178-1d76-4731-be82-b670098a7e5c"
      },
      "execution_count": 12,
      "outputs": [
        {
          "output_type": "stream",
          "name": "stdout",
          "text": [
            "Data has been appended to 'example.txt'.\n"
          ]
        }
      ]
    },
    {
      "cell_type": "code",
      "source": [
        "# Sample dictionary\n",
        "sample_dict = {'apple': 10, 'banana': 5, 'cherry': 20}\n",
        "\n",
        "# Key to access\n",
        "key_to_access = 'orange'\n",
        "\n",
        "try:\n",
        "    # Attempt to access a key in the dictionary\n",
        "    value = sample_dict[key_to_access]\n",
        "    print(f\"The value for '{key_to_access}' is {value}.\")\n",
        "except KeyError:\n",
        "    # Handle the case where the key doesn't exist in the dictionary\n",
        "    print(f\"Error: The key '{key_to_access}' does not exist in the dictionary.\")\n"
      ],
      "metadata": {
        "colab": {
          "base_uri": "https://localhost:8080/"
        },
        "id": "WjlmcgI9RQt7",
        "outputId": "bb731ecf-df91-487c-9458-2b8ce6083033"
      },
      "execution_count": 13,
      "outputs": [
        {
          "output_type": "stream",
          "name": "stdout",
          "text": [
            "Error: The key 'orange' does not exist in the dictionary.\n"
          ]
        }
      ]
    },
    {
      "cell_type": "code",
      "source": [
        "# Function to demonstrate handling different types of exceptions\n",
        "def handle_exceptions():\n",
        "    try:\n",
        "        # Prompt the user for input\n",
        "        number1 = int(input(\"Enter the first number: \"))\n",
        "        number2 = int(input(\"Enter the second number: \"))\n",
        "\n",
        "        # Perform division (this might raise ZeroDivisionError)\n",
        "        result = number1 / number2\n",
        "        print(f\"The result of {number1} divided by {number2} is {result}.\")\n",
        "\n",
        "    except ValueError:\n",
        "        # This block handles invalid input (non-integer values)\n",
        "        print(\"Error: Invalid input. Please enter valid integers.\")\n",
        "\n",
        "    except ZeroDivisionError:\n",
        "        # This block handles division by zero errors\n",
        "        print(\"Error: Cannot divide by zero.\")\n",
        "\n",
        "    except Exception as e:\n",
        "        # This block catches any other unexpected errors\n",
        "        print(f\"An unexpected error occurred: {e}\")\n",
        "\n",
        "# Call the function to demonstrate exception handling\n",
        "handle_exceptions()\n"
      ],
      "metadata": {
        "colab": {
          "base_uri": "https://localhost:8080/"
        },
        "id": "Usn_4kTMRaTr",
        "outputId": "b263307c-9efd-4192-97a8-d02983af3636"
      },
      "execution_count": 15,
      "outputs": [
        {
          "output_type": "stream",
          "name": "stdout",
          "text": [
            "Enter the first number: 7\n",
            "Enter the second number: 9\n",
            "The result of 7 divided by 9 is 0.7777777777777778.\n"
          ]
        }
      ]
    },
    {
      "cell_type": "code",
      "source": [
        "import os\n",
        "\n",
        "# Specify the file path\n",
        "file_path = 'example.txt'\n",
        "\n",
        "# Check if the file exists before reading\n",
        "if os.path.isfile(file_path):\n",
        "    # Open the file and read its content\n",
        "    with open(file_path, 'r') as file:\n",
        "        content = file.read()\n",
        "        print(\"File contents:\")\n",
        "        print(content)\n",
        "else:\n",
        "    print(f\"Error: The file '{file_path}' does not exist.\")\n"
      ],
      "metadata": {
        "colab": {
          "base_uri": "https://localhost:8080/"
        },
        "id": "jyxs3ui4Rk7d",
        "outputId": "0f389008-7f23-4796-8b18-180285459b1c"
      },
      "execution_count": 16,
      "outputs": [
        {
          "output_type": "stream",
          "name": "stdout",
          "text": [
            "File contents:\n",
            "Hello, world! This is a string written to the file.\n",
            "This is a new line of text.\n"
          ]
        }
      ]
    },
    {
      "cell_type": "code",
      "source": [
        "import logging\n",
        "\n",
        "# Configure the logging settings\n",
        "logging.basicConfig(\n",
        "    level=logging.DEBUG,  # Set the minimum level of logs to capture\n",
        "    format='%(asctime)s - %(levelname)s - %(message)s',  # Log format\n",
        "    handlers=[\n",
        "        logging.StreamHandler(),  # Output logs to the console\n",
        "        logging.FileHandler('app.log')  # Also log to a file named 'app.log'\n",
        "    ]\n",
        ")\n",
        "\n",
        "# Log an informational message\n",
        "logging.info('This is an informational message.')\n",
        "\n",
        "# Log an error message\n",
        "try:\n",
        "    # Simulate an error by dividing by zero\n",
        "    result = 10 / 0\n",
        "except ZeroDivisionError as e:\n",
        "    logging.error(f'Error occurred: {e}')\n",
        "\n",
        "# Log another informational message\n",
        "logging.info('Program has completed successfully.')\n"
      ],
      "metadata": {
        "colab": {
          "base_uri": "https://localhost:8080/"
        },
        "id": "XosiYHWFR2c3",
        "outputId": "ca686fe9-e640-4759-c801-34b1927ea2b0"
      },
      "execution_count": 17,
      "outputs": [
        {
          "output_type": "stream",
          "name": "stderr",
          "text": [
            "ERROR:root:Error occurred: division by zero\n"
          ]
        }
      ]
    },
    {
      "cell_type": "code",
      "source": [
        "def print_file_content(file_path):\n",
        "    try:\n",
        "        # Open the file in read mode\n",
        "        with open(file_path, 'r') as file:\n",
        "            # Read the content of the file\n",
        "            content = file.read()\n",
        "\n",
        "            # Check if the file is empty\n",
        "            if not content:\n",
        "                print(\"The file is empty.\")\n",
        "            else:\n",
        "                print(\"File content:\")\n",
        "                print(content)\n",
        "\n",
        "    except FileNotFoundError:\n",
        "        print(f\"Error: The file '{file_path}' does not exist.\")\n",
        "    except Exception as e:\n",
        "        print(f\"An error occurred: {e}\")\n",
        "\n",
        "# Specify the path to your file\n",
        "file_path = 'example.txt'\n",
        "\n",
        "# Call the function to print the file content\n",
        "print_file_content(file_path)\n"
      ],
      "metadata": {
        "colab": {
          "base_uri": "https://localhost:8080/"
        },
        "id": "LObecqYIR_gW",
        "outputId": "7af235a9-616b-4a80-bb25-577feab8fc81"
      },
      "execution_count": 18,
      "outputs": [
        {
          "output_type": "stream",
          "name": "stdout",
          "text": [
            "File content:\n",
            "Hello, world! This is a string written to the file.\n",
            "This is a new line of text.\n"
          ]
        }
      ]
    },
    {
      "cell_type": "code",
      "source": [
        "pip install memory-profiler\n",
        "# File: memory_test.py\n",
        "\n",
        "from memory_profiler import profile\n",
        "\n",
        "@profile\n",
        "def my_function():\n",
        "    a = [i for i in range(10000)]  # Create a large list of numbers\n",
        "    b = [i * 2 for i in a]         # Create another list by multiplying each element by 2\n",
        "    del b                          # Delete the list b\n",
        "    return a\n",
        "\n",
        "if __name__ == \"__main__\":\n",
        "    my_function()\n"
      ],
      "metadata": {
        "colab": {
          "base_uri": "https://localhost:8080/",
          "height": 106
        },
        "id": "SMGj83GbSIiU",
        "outputId": "a9e5cf10-4f02-4c49-9c85-8f8a32173ea1"
      },
      "execution_count": 19,
      "outputs": [
        {
          "output_type": "error",
          "ename": "SyntaxError",
          "evalue": "invalid syntax (<ipython-input-19-adea4c78173a>, line 1)",
          "traceback": [
            "\u001b[0;36m  File \u001b[0;32m\"<ipython-input-19-adea4c78173a>\"\u001b[0;36m, line \u001b[0;32m1\u001b[0m\n\u001b[0;31m    pip install memory-profiler\u001b[0m\n\u001b[0m        ^\u001b[0m\n\u001b[0;31mSyntaxError\u001b[0m\u001b[0;31m:\u001b[0m invalid syntax\n"
          ]
        }
      ]
    },
    {
      "cell_type": "code",
      "source": [
        "# List of numbers\n",
        "numbers = [1, 2, 3, 4, 5, 6, 7, 8, 9, 10]\n",
        "\n",
        "# Open the file in write mode ('w')\n",
        "with open('numbers.txt', 'w') as file:\n",
        "    # Iterate through the list and write each number to a new line\n",
        "    for number in numbers:\n",
        "        file.write(f\"{number}\\n\")\n",
        "\n",
        "print(\"Numbers have been written to 'numbers.txt'.\")\n"
      ],
      "metadata": {
        "colab": {
          "base_uri": "https://localhost:8080/"
        },
        "id": "dUa65sBDSYZl",
        "outputId": "b3be7900-befd-424d-c754-72b029c9c937"
      },
      "execution_count": 21,
      "outputs": [
        {
          "output_type": "stream",
          "name": "stdout",
          "text": [
            "Numbers have been written to 'numbers.txt'.\n"
          ]
        }
      ]
    },
    {
      "cell_type": "code",
      "source": [
        "import logging\n",
        "from logging.handlers import RotatingFileHandler\n",
        "\n",
        "# Set up the logger\n",
        "logger = logging.getLogger('my_logger')\n",
        "logger.setLevel(logging.DEBUG)  # Set the logging level to DEBUG (captures all levels)\n",
        "\n",
        "# Create a rotating file handler\n",
        "handler = RotatingFileHandler('app.log', maxBytes=1 * 1024 * 1024, backupCount=3)\n",
        "handler.setLevel(logging.DEBUG)  # Log at DEBUG level\n",
        "\n",
        "# Create a formatter for the log messages\n",
        "formatter = logging.Formatter('%(asctime)s - %(levelname)s - %(message)s')\n",
        "handler.setFormatter(formatter)\n",
        "\n",
        "# Add the handler to the logger\n",
        "logger.addHandler(handler)\n",
        "\n",
        "# Test logging messages\n",
        "logger.debug(\"This is a debug message.\")\n",
        "logger.info(\"This is an info message.\")\n",
        "logger.warning(\"This is a warning message.\")\n",
        "logger.error(\"This is an error message.\")\n",
        "logger.critical(\"This is a critical message.\")\n",
        "\n",
        "print(\"Logging setup complete. Check 'app.log' for log entries.\")\n"
      ],
      "metadata": {
        "colab": {
          "base_uri": "https://localhost:8080/"
        },
        "id": "-w3QG254Sk7G",
        "outputId": "c18a4f73-11e4-4b01-ecbc-d97e6fb7c1c9"
      },
      "execution_count": 22,
      "outputs": [
        {
          "output_type": "stream",
          "name": "stderr",
          "text": [
            "DEBUG:my_logger:This is a debug message.\n",
            "INFO:my_logger:This is an info message.\n",
            "WARNING:my_logger:This is a warning message.\n",
            "ERROR:my_logger:This is an error message.\n",
            "CRITICAL:my_logger:This is a critical message.\n"
          ]
        },
        {
          "output_type": "stream",
          "name": "stdout",
          "text": [
            "Logging setup complete. Check 'app.log' for log entries.\n"
          ]
        }
      ]
    },
    {
      "cell_type": "code",
      "source": [
        "def handle_exceptions():\n",
        "    # Example list and dictionary\n",
        "    my_list = [1, 2, 3]\n",
        "    my_dict = {\"a\": 1, \"b\": 2}\n",
        "\n",
        "    try:\n",
        "        # Attempting to access an index that may not exist in the list\n",
        "        index_value = my_list[5]  # This will raise an IndexError\n",
        "\n",
        "        # Attempting to access a key that may not exist in the dictionary\n",
        "        key_value = my_dict[\"c\"]  # This will raise a KeyError\n",
        "\n",
        "    except IndexError as index_error:\n",
        "        print(f\"IndexError: {index_error} - Index is out of range in the list.\")\n",
        "\n",
        "    except KeyError as key_error:\n",
        "        print(f\"KeyError: {key_error} - Key does not exist in the dictionary.\")\n",
        "\n",
        "# Call the function to demonstrate exception handling\n",
        "handle_exceptions()\n"
      ],
      "metadata": {
        "colab": {
          "base_uri": "https://localhost:8080/"
        },
        "id": "11ExEc5pSyzz",
        "outputId": "bc7b0e9e-a270-4502-b784-8c791bea4e14"
      },
      "execution_count": 23,
      "outputs": [
        {
          "output_type": "stream",
          "name": "stdout",
          "text": [
            "IndexError: list index out of range - Index is out of range in the list.\n"
          ]
        }
      ]
    },
    {
      "cell_type": "code",
      "source": [
        "def read_file(file_path):\n",
        "    try:\n",
        "        # Open the file using a context manager\n",
        "        with open(file_path, 'r') as file:\n",
        "            # Read the contents of the file\n",
        "            content = file.read()\n",
        "            print(content)\n",
        "\n",
        "    except FileNotFoundError:\n",
        "        print(f\"Error: The file '{file_path}' does not exist.\")\n",
        "    except Exception as e:\n",
        "        print(f\"An error occurred: {e}\")\n",
        "\n",
        "# Specify the path to your file\n",
        "file_path = 'example.txt'\n",
        "\n",
        "# Call the function to read the file contents\n",
        "read_file(file_path)\n"
      ],
      "metadata": {
        "colab": {
          "base_uri": "https://localhost:8080/"
        },
        "id": "z9zvZyJYS9Tj",
        "outputId": "1567f78b-4781-4921-d5f5-99018a63eadc"
      },
      "execution_count": 24,
      "outputs": [
        {
          "output_type": "stream",
          "name": "stdout",
          "text": [
            "Hello, world! This is a string written to the file.\n",
            "This is a new line of text.\n"
          ]
        }
      ]
    },
    {
      "cell_type": "code",
      "source": [
        "def count_word_occurrences(file_path, word_to_search):\n",
        "    try:\n",
        "        # Open the file using a context manager\n",
        "        with open(file_path, 'r') as file:\n",
        "            content = file.read()\n",
        "\n",
        "            # Count occurrences of the specific word\n",
        "            word_count = content.lower().split().count(word_to_search.lower())  # Case-insensitive count\n",
        "            print(f\"The word '{word_to_search}' occurred {word_count} times.\")\n",
        "\n",
        "    except FileNotFoundError:\n",
        "        print(f\"Error: The file '{file_path}' does not exist.\")\n",
        "    except Exception as e:\n",
        "        print(f\"An error occurred: {e}\")\n",
        "\n",
        "# Specify the path to your file and the word to search\n",
        "file_path = 'example.txt'  # Replace with your file path\n",
        "word_to_search = 'python'  # Replace with the word you want to search for\n",
        "\n",
        "# Call the function to count the word occurrences\n",
        "count_word_occurrences(file_path, word_to_search)\n"
      ],
      "metadata": {
        "colab": {
          "base_uri": "https://localhost:8080/"
        },
        "id": "OBao46yTTGst",
        "outputId": "6cfff38e-4bfe-45bd-c7e8-3dba4223965d"
      },
      "execution_count": 25,
      "outputs": [
        {
          "output_type": "stream",
          "name": "stdout",
          "text": [
            "The word 'python' occurred 0 times.\n"
          ]
        }
      ]
    },
    {
      "cell_type": "code",
      "source": [
        "import os\n",
        "\n",
        "def read_file_if_not_empty(file_path):\n",
        "    try:\n",
        "        # Check if the file exists and its size\n",
        "        if os.path.getsize(file_path) > 0:\n",
        "            # If the file is not empty, open and read its contents\n",
        "            with open(file_path, 'r') as file:\n",
        "                content = file.read()\n",
        "                print(\"File content:\")\n",
        "                print(content)\n",
        "        else:\n",
        "            print(\"The file is empty.\")\n",
        "\n",
        "    except FileNotFoundError:\n",
        "        print(f\"Error: The file '{file_path}' does not exist.\")\n",
        "    except Exception as e:\n",
        "        print(f\"An error occurred: {e}\")\n",
        "\n",
        "# Specify the path to your file\n",
        "file_path = 'example.txt'  # Replace with the path to your file\n",
        "\n",
        "# Call the function to read the file if it's not empty\n",
        "read_file_if_not_empty(file_path)\n"
      ],
      "metadata": {
        "colab": {
          "base_uri": "https://localhost:8080/"
        },
        "id": "B5SyTQeUTQC5",
        "outputId": "4ce30f5a-5bec-4a62-90b3-ae24b4b55df2"
      },
      "execution_count": 26,
      "outputs": [
        {
          "output_type": "stream",
          "name": "stdout",
          "text": [
            "File content:\n",
            "Hello, world! This is a string written to the file.\n",
            "This is a new line of text.\n"
          ]
        }
      ]
    },
    {
      "cell_type": "code",
      "source": [
        "import logging\n",
        "\n",
        "# Set up logging configuration to log to a file\n",
        "logging.basicConfig(\n",
        "    filename='file_handling_errors.log',  # The log file where errors will be saved\n",
        "    level=logging.ERROR,  # Log only error and critical messages\n",
        "    format='%(asctime)s - %(levelname)s - %(message)s'  # Log format with timestamp and error level\n",
        ")\n",
        "\n",
        "def read_file(file_path):\n",
        "    try:\n",
        "        # Attempting to open and read the file\n",
        "        with open(file_path, 'r') as file:\n",
        "            content = file.read()\n",
        "            print(content)  # Print file contents (for demonstration purposes)\n",
        "\n",
        "    except FileNotFoundError as fnf_error:\n",
        "        logging.error(f\"FileNotFoundError: {fnf_error} - File '{file_path}' not found.\")\n",
        "        print(\"Error: File not found. Check the log file for details.\")\n",
        "\n",
        "    except PermissionError as perm_error:\n",
        "        logging.error(f\"PermissionError: {perm_error} - Insufficient permissions to read the file '{file_path}'.\")\n",
        "        print(\"Error: Insufficient permissions. Check the log file for details.\")\n",
        "\n",
        "    except Exception as e:\n",
        "        logging.error(f\"Exception: {e} - An unexpected error occurred while handling the file '{file_path}'.\")\n",
        "        print(\"An unexpected error occurred. Check the log file for details.\")\n",
        "\n",
        "# Specify the path to your file\n",
        "file_path = 'example.txt'  # Replace with your actual file path\n",
        "\n",
        "# Call the function to read the file\n",
        "read_file(file_path)\n"
      ],
      "metadata": {
        "colab": {
          "base_uri": "https://localhost:8080/"
        },
        "id": "KSduuFdNTYoB",
        "outputId": "3af4cd97-4c71-476b-804c-8d265225db7c"
      },
      "execution_count": 27,
      "outputs": [
        {
          "output_type": "stream",
          "name": "stdout",
          "text": [
            "Hello, world! This is a string written to the file.\n",
            "This is a new line of text.\n"
          ]
        }
      ]
    },
    {
      "cell_type": "code",
      "source": [],
      "metadata": {
        "id": "tg0FgDIETj7j"
      },
      "execution_count": null,
      "outputs": []
    }
  ]
}